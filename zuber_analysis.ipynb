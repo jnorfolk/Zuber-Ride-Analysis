{
 "cells": [
  {
   "cell_type": "markdown",
   "id": "fad796e4-0204-43f1-8e51-300b106fb885",
   "metadata": {},
   "source": [
    "# Zuber Ride-Sharing Analysis"
   ]
  },
  {
   "cell_type": "markdown",
   "id": "ab5ebd9b-76e5-4995-a5dd-fdea96b544b1",
   "metadata": {},
   "source": [
    "# Introduction"
   ]
  },
  {
   "cell_type": "markdown",
   "id": "cd04b1a5-b2ba-436a-a255-13ef4200f201",
   "metadata": {},
   "source": [
    "We will be working to explore ride-sharing data for a new ride-sharing company called Zuber. Previously I scraped data from a website regarding hourly weather conditions, and used SQL to query data from the Zuber database. \n",
    "\n",
    "We have a dataset containing the number of trips for each taxi company on November 15-16, 2017, along with a dataset containing the average number of rides that ended in each Chicago neighborhood in November 2017. We will explore this data to identify top dropoff neighborhoods and taxi companies and draw general conclusions based on what we find through graphs. \n",
    "\n",
    "We also have a dataset that we queried from the Zuber database using SQL, containing hourly weather conditions and ride durations. We will statistically test whether or not the average duration of rides from the Loop to O'Hare National Airport is the same on Saturdays with rainy weather as it is on clear Saturdays."
   ]
  },
  {
   "cell_type": "code",
   "execution_count": 134,
   "id": "e6a49c7c-f7c4-42ab-b193-eb7e51dad0c6",
   "metadata": {},
   "outputs": [],
   "source": [
    "# import libraries\n",
    "import pandas as pd\n",
    "import matplotlib.pyplot as plt\n",
    "from scipy import stats as st"
   ]
  },
  {
   "cell_type": "markdown",
   "id": "8efa78ba-8030-4756-9099-fd01bed473e9",
   "metadata": {
    "tags": []
   },
   "source": [
    "# EDA"
   ]
  },
  {
   "cell_type": "code",
   "execution_count": 85,
   "id": "3e3d5749-7228-48e7-885f-715a3e45a3ab",
   "metadata": {},
   "outputs": [],
   "source": [
    "# Import first datasets\n",
    "\n",
    "try:\n",
    "    trips_amount = pd.read_csv('moved_project_sql_result_01.csv')\n",
    "except:\n",
    "    trips_amount = pd.read_csv('/datasets/project_sql_result_01.csv')\n",
    "\n",
    "try:\n",
    "    dropoff = pd.read_csv('moved_project_sql_result_04.csv')\n",
    "except:\n",
    "    dropoff = pd.read_csv('/datasets/project_sql_result_04.csv')"
   ]
  },
  {
   "cell_type": "markdown",
   "id": "7961bf22-8c25-4f2e-b849-e029c9e39027",
   "metadata": {
    "tags": [],
    "toc-hr-collapsed": true
   },
   "source": [
    "## Preprocessing"
   ]
  },
  {
   "cell_type": "markdown",
   "id": "70130dd3-a936-460e-af66-18045e16e717",
   "metadata": {},
   "source": [
    "Let's look at the tables themselves, check datatypes, and make sure values are reasonable."
   ]
  },
  {
   "cell_type": "markdown",
   "id": "59043503-6be3-4b54-a059-aa9416765796",
   "metadata": {},
   "source": [
    "### trips_amount preprocessing"
   ]
  },
  {
   "cell_type": "code",
   "execution_count": 86,
   "id": "ac7de62e-9f51-4010-9c58-c42e0464d9a8",
   "metadata": {},
   "outputs": [
    {
     "data": {
      "text/html": [
       "<div>\n",
       "<style scoped>\n",
       "    .dataframe tbody tr th:only-of-type {\n",
       "        vertical-align: middle;\n",
       "    }\n",
       "\n",
       "    .dataframe tbody tr th {\n",
       "        vertical-align: top;\n",
       "    }\n",
       "\n",
       "    .dataframe thead th {\n",
       "        text-align: right;\n",
       "    }\n",
       "</style>\n",
       "<table border=\"1\" class=\"dataframe\">\n",
       "  <thead>\n",
       "    <tr style=\"text-align: right;\">\n",
       "      <th></th>\n",
       "      <th>company_name</th>\n",
       "      <th>trips_amount</th>\n",
       "    </tr>\n",
       "  </thead>\n",
       "  <tbody>\n",
       "    <tr>\n",
       "      <th>0</th>\n",
       "      <td>Flash Cab</td>\n",
       "      <td>19558</td>\n",
       "    </tr>\n",
       "    <tr>\n",
       "      <th>1</th>\n",
       "      <td>Taxi Affiliation Services</td>\n",
       "      <td>11422</td>\n",
       "    </tr>\n",
       "    <tr>\n",
       "      <th>2</th>\n",
       "      <td>Medallion Leasin</td>\n",
       "      <td>10367</td>\n",
       "    </tr>\n",
       "    <tr>\n",
       "      <th>3</th>\n",
       "      <td>Yellow Cab</td>\n",
       "      <td>9888</td>\n",
       "    </tr>\n",
       "    <tr>\n",
       "      <th>4</th>\n",
       "      <td>Taxi Affiliation Service Yellow</td>\n",
       "      <td>9299</td>\n",
       "    </tr>\n",
       "    <tr>\n",
       "      <th>5</th>\n",
       "      <td>Chicago Carriage Cab Corp</td>\n",
       "      <td>9181</td>\n",
       "    </tr>\n",
       "    <tr>\n",
       "      <th>6</th>\n",
       "      <td>City Service</td>\n",
       "      <td>8448</td>\n",
       "    </tr>\n",
       "    <tr>\n",
       "      <th>7</th>\n",
       "      <td>Sun Taxi</td>\n",
       "      <td>7701</td>\n",
       "    </tr>\n",
       "    <tr>\n",
       "      <th>8</th>\n",
       "      <td>Star North Management LLC</td>\n",
       "      <td>7455</td>\n",
       "    </tr>\n",
       "    <tr>\n",
       "      <th>9</th>\n",
       "      <td>Blue Ribbon Taxi Association Inc.</td>\n",
       "      <td>5953</td>\n",
       "    </tr>\n",
       "  </tbody>\n",
       "</table>\n",
       "</div>"
      ],
      "text/plain": [
       "                        company_name  trips_amount\n",
       "0                          Flash Cab         19558\n",
       "1          Taxi Affiliation Services         11422\n",
       "2                   Medallion Leasin         10367\n",
       "3                         Yellow Cab          9888\n",
       "4    Taxi Affiliation Service Yellow          9299\n",
       "5          Chicago Carriage Cab Corp          9181\n",
       "6                       City Service          8448\n",
       "7                           Sun Taxi          7701\n",
       "8          Star North Management LLC          7455\n",
       "9  Blue Ribbon Taxi Association Inc.          5953"
      ]
     },
     "execution_count": 86,
     "metadata": {},
     "output_type": "execute_result"
    }
   ],
   "source": [
    "trips_amount.head(10)"
   ]
  },
  {
   "cell_type": "code",
   "execution_count": 14,
   "id": "e4cb801f-2019-4952-b5eb-2c7fba33f8a6",
   "metadata": {},
   "outputs": [
    {
     "name": "stdout",
     "output_type": "stream",
     "text": [
      "<class 'pandas.core.frame.DataFrame'>\n",
      "RangeIndex: 64 entries, 0 to 63\n",
      "Data columns (total 2 columns):\n",
      " #   Column        Non-Null Count  Dtype \n",
      "---  ------        --------------  ----- \n",
      " 0   company_name  64 non-null     object\n",
      " 1   trips_amount  64 non-null     int64 \n",
      "dtypes: int64(1), object(1)\n",
      "memory usage: 1.1+ KB\n"
     ]
    }
   ],
   "source": [
    "trips_amount.info()"
   ]
  },
  {
   "cell_type": "code",
   "execution_count": 15,
   "id": "f1a2e23b-537d-4cd5-bdb7-20cffe8151b3",
   "metadata": {},
   "outputs": [
    {
     "data": {
      "text/html": [
       "<div>\n",
       "<style scoped>\n",
       "    .dataframe tbody tr th:only-of-type {\n",
       "        vertical-align: middle;\n",
       "    }\n",
       "\n",
       "    .dataframe tbody tr th {\n",
       "        vertical-align: top;\n",
       "    }\n",
       "\n",
       "    .dataframe thead th {\n",
       "        text-align: right;\n",
       "    }\n",
       "</style>\n",
       "<table border=\"1\" class=\"dataframe\">\n",
       "  <thead>\n",
       "    <tr style=\"text-align: right;\">\n",
       "      <th></th>\n",
       "      <th>trips_amount</th>\n",
       "    </tr>\n",
       "  </thead>\n",
       "  <tbody>\n",
       "    <tr>\n",
       "      <th>count</th>\n",
       "      <td>64.000000</td>\n",
       "    </tr>\n",
       "    <tr>\n",
       "      <th>mean</th>\n",
       "      <td>2145.484375</td>\n",
       "    </tr>\n",
       "    <tr>\n",
       "      <th>std</th>\n",
       "      <td>3812.310186</td>\n",
       "    </tr>\n",
       "    <tr>\n",
       "      <th>min</th>\n",
       "      <td>2.000000</td>\n",
       "    </tr>\n",
       "    <tr>\n",
       "      <th>25%</th>\n",
       "      <td>20.750000</td>\n",
       "    </tr>\n",
       "    <tr>\n",
       "      <th>50%</th>\n",
       "      <td>178.500000</td>\n",
       "    </tr>\n",
       "    <tr>\n",
       "      <th>75%</th>\n",
       "      <td>2106.500000</td>\n",
       "    </tr>\n",
       "    <tr>\n",
       "      <th>max</th>\n",
       "      <td>19558.000000</td>\n",
       "    </tr>\n",
       "  </tbody>\n",
       "</table>\n",
       "</div>"
      ],
      "text/plain": [
       "       trips_amount\n",
       "count     64.000000\n",
       "mean    2145.484375\n",
       "std     3812.310186\n",
       "min        2.000000\n",
       "25%       20.750000\n",
       "50%      178.500000\n",
       "75%     2106.500000\n",
       "max    19558.000000"
      ]
     },
     "execution_count": 15,
     "metadata": {},
     "output_type": "execute_result"
    }
   ],
   "source": [
    "trips_amount.describe()"
   ]
  },
  {
   "cell_type": "code",
   "execution_count": 28,
   "id": "6f60c52d-280b-4cd3-9745-b4e387590a66",
   "metadata": {},
   "outputs": [
    {
     "data": {
      "text/plain": [
       "0"
      ]
     },
     "execution_count": 28,
     "metadata": {},
     "output_type": "execute_result"
    }
   ],
   "source": [
    "trips_amount.duplicated().sum()"
   ]
  },
  {
   "cell_type": "markdown",
   "id": "0d54d7d8-a867-4c9a-be97-bf5057e69ed3",
   "metadata": {},
   "source": [
    "The numbers of trips are integers, which is ideal. The numbers of trips range from 2 trips per company to nearly 20,000 trips per company, which seems realistic. There are no null values and no duplicates."
   ]
  },
  {
   "cell_type": "markdown",
   "id": "241b0ebd-b3fc-4798-8994-d79cc81c214e",
   "metadata": {},
   "source": [
    "### dropoff preprocessing"
   ]
  },
  {
   "cell_type": "markdown",
   "id": "7b60561d-9561-4351-b3c6-cedceb661e93",
   "metadata": {},
   "source": [
    "Now let's do the same for the dropoff table."
   ]
  },
  {
   "cell_type": "code",
   "execution_count": 16,
   "id": "a435c2bc-fc18-4ef1-b47b-d9484c41e9f4",
   "metadata": {},
   "outputs": [
    {
     "data": {
      "text/html": [
       "<div>\n",
       "<style scoped>\n",
       "    .dataframe tbody tr th:only-of-type {\n",
       "        vertical-align: middle;\n",
       "    }\n",
       "\n",
       "    .dataframe tbody tr th {\n",
       "        vertical-align: top;\n",
       "    }\n",
       "\n",
       "    .dataframe thead th {\n",
       "        text-align: right;\n",
       "    }\n",
       "</style>\n",
       "<table border=\"1\" class=\"dataframe\">\n",
       "  <thead>\n",
       "    <tr style=\"text-align: right;\">\n",
       "      <th></th>\n",
       "      <th>dropoff_location_name</th>\n",
       "      <th>average_trips</th>\n",
       "    </tr>\n",
       "  </thead>\n",
       "  <tbody>\n",
       "    <tr>\n",
       "      <th>0</th>\n",
       "      <td>Loop</td>\n",
       "      <td>10727.466667</td>\n",
       "    </tr>\n",
       "    <tr>\n",
       "      <th>1</th>\n",
       "      <td>River North</td>\n",
       "      <td>9523.666667</td>\n",
       "    </tr>\n",
       "    <tr>\n",
       "      <th>2</th>\n",
       "      <td>Streeterville</td>\n",
       "      <td>6664.666667</td>\n",
       "    </tr>\n",
       "    <tr>\n",
       "      <th>3</th>\n",
       "      <td>West Loop</td>\n",
       "      <td>5163.666667</td>\n",
       "    </tr>\n",
       "    <tr>\n",
       "      <th>4</th>\n",
       "      <td>O'Hare</td>\n",
       "      <td>2546.900000</td>\n",
       "    </tr>\n",
       "    <tr>\n",
       "      <th>5</th>\n",
       "      <td>Lake View</td>\n",
       "      <td>2420.966667</td>\n",
       "    </tr>\n",
       "    <tr>\n",
       "      <th>6</th>\n",
       "      <td>Grant Park</td>\n",
       "      <td>2068.533333</td>\n",
       "    </tr>\n",
       "    <tr>\n",
       "      <th>7</th>\n",
       "      <td>Museum Campus</td>\n",
       "      <td>1510.000000</td>\n",
       "    </tr>\n",
       "    <tr>\n",
       "      <th>8</th>\n",
       "      <td>Gold Coast</td>\n",
       "      <td>1364.233333</td>\n",
       "    </tr>\n",
       "    <tr>\n",
       "      <th>9</th>\n",
       "      <td>Sheffield &amp; DePaul</td>\n",
       "      <td>1259.766667</td>\n",
       "    </tr>\n",
       "  </tbody>\n",
       "</table>\n",
       "</div>"
      ],
      "text/plain": [
       "  dropoff_location_name  average_trips\n",
       "0                  Loop   10727.466667\n",
       "1           River North    9523.666667\n",
       "2         Streeterville    6664.666667\n",
       "3             West Loop    5163.666667\n",
       "4                O'Hare    2546.900000\n",
       "5             Lake View    2420.966667\n",
       "6            Grant Park    2068.533333\n",
       "7         Museum Campus    1510.000000\n",
       "8            Gold Coast    1364.233333\n",
       "9    Sheffield & DePaul    1259.766667"
      ]
     },
     "execution_count": 16,
     "metadata": {},
     "output_type": "execute_result"
    }
   ],
   "source": [
    "dropoff.head(10)"
   ]
  },
  {
   "cell_type": "code",
   "execution_count": 18,
   "id": "5bf5b1f2-dba6-4964-a007-4cb85ad9ef26",
   "metadata": {},
   "outputs": [
    {
     "name": "stdout",
     "output_type": "stream",
     "text": [
      "<class 'pandas.core.frame.DataFrame'>\n",
      "RangeIndex: 94 entries, 0 to 93\n",
      "Data columns (total 2 columns):\n",
      " #   Column                 Non-Null Count  Dtype  \n",
      "---  ------                 --------------  -----  \n",
      " 0   dropoff_location_name  94 non-null     object \n",
      " 1   average_trips          94 non-null     float64\n",
      "dtypes: float64(1), object(1)\n",
      "memory usage: 1.6+ KB\n"
     ]
    }
   ],
   "source": [
    "dropoff.info()"
   ]
  },
  {
   "cell_type": "markdown",
   "id": "0799653c-934e-4ca0-ba71-b71ca5c77075",
   "metadata": {},
   "source": [
    "It makes sense that the average number of dropoffs is of float type, and this tells us that the values are all numbers, but I will change these to integers for greater ease of use."
   ]
  },
  {
   "cell_type": "code",
   "execution_count": 23,
   "id": "1e5c21c9-7a35-497b-9566-bc27a5bdd248",
   "metadata": {},
   "outputs": [],
   "source": [
    "dropoff.average_trips = dropoff.average_trips.astype('int')"
   ]
  },
  {
   "cell_type": "code",
   "execution_count": 24,
   "id": "bd80fb41-d928-4377-a267-7fafaf4a189f",
   "metadata": {},
   "outputs": [
    {
     "name": "stdout",
     "output_type": "stream",
     "text": [
      "<class 'pandas.core.frame.DataFrame'>\n",
      "RangeIndex: 94 entries, 0 to 93\n",
      "Data columns (total 2 columns):\n",
      " #   Column                 Non-Null Count  Dtype \n",
      "---  ------                 --------------  ----- \n",
      " 0   dropoff_location_name  94 non-null     object\n",
      " 1   average_trips          94 non-null     int32 \n",
      "dtypes: int32(1), object(1)\n",
      "memory usage: 1.2+ KB\n"
     ]
    }
   ],
   "source": [
    "dropoff.info()"
   ]
  },
  {
   "cell_type": "code",
   "execution_count": 25,
   "id": "e7aed41a-7059-445a-8f41-f3acd02dd6cf",
   "metadata": {},
   "outputs": [
    {
     "data": {
      "text/html": [
       "<div>\n",
       "<style scoped>\n",
       "    .dataframe tbody tr th:only-of-type {\n",
       "        vertical-align: middle;\n",
       "    }\n",
       "\n",
       "    .dataframe tbody tr th {\n",
       "        vertical-align: top;\n",
       "    }\n",
       "\n",
       "    .dataframe thead th {\n",
       "        text-align: right;\n",
       "    }\n",
       "</style>\n",
       "<table border=\"1\" class=\"dataframe\">\n",
       "  <thead>\n",
       "    <tr style=\"text-align: right;\">\n",
       "      <th></th>\n",
       "      <th>average_trips</th>\n",
       "    </tr>\n",
       "  </thead>\n",
       "  <tbody>\n",
       "    <tr>\n",
       "      <th>count</th>\n",
       "      <td>94.000000</td>\n",
       "    </tr>\n",
       "    <tr>\n",
       "      <th>mean</th>\n",
       "      <td>599.478723</td>\n",
       "    </tr>\n",
       "    <tr>\n",
       "      <th>std</th>\n",
       "      <td>1714.555974</td>\n",
       "    </tr>\n",
       "    <tr>\n",
       "      <th>min</th>\n",
       "      <td>1.000000</td>\n",
       "    </tr>\n",
       "    <tr>\n",
       "      <th>25%</th>\n",
       "      <td>14.000000</td>\n",
       "    </tr>\n",
       "    <tr>\n",
       "      <th>50%</th>\n",
       "      <td>51.500000</td>\n",
       "    </tr>\n",
       "    <tr>\n",
       "      <th>75%</th>\n",
       "      <td>298.750000</td>\n",
       "    </tr>\n",
       "    <tr>\n",
       "      <th>max</th>\n",
       "      <td>10727.000000</td>\n",
       "    </tr>\n",
       "  </tbody>\n",
       "</table>\n",
       "</div>"
      ],
      "text/plain": [
       "       average_trips\n",
       "count      94.000000\n",
       "mean      599.478723\n",
       "std      1714.555974\n",
       "min         1.000000\n",
       "25%        14.000000\n",
       "50%        51.500000\n",
       "75%       298.750000\n",
       "max     10727.000000"
      ]
     },
     "execution_count": 25,
     "metadata": {},
     "output_type": "execute_result"
    }
   ],
   "source": [
    "dropoff.describe()"
   ]
  },
  {
   "cell_type": "code",
   "execution_count": 29,
   "id": "c7278b61-e78a-4578-990c-cd162697f941",
   "metadata": {},
   "outputs": [
    {
     "data": {
      "text/plain": [
       "0"
      ]
     },
     "execution_count": 29,
     "metadata": {},
     "output_type": "execute_result"
    }
   ],
   "source": [
    "dropoff.duplicated().sum()"
   ]
  },
  {
   "cell_type": "markdown",
   "id": "21671a85-694c-4013-8e03-4e6464105088",
   "metadata": {},
   "source": [
    "We changed the average numbers of dropoffs to integers, and the average numbers of dropoffs range from 1 to nearly 11,000 which seems reasonable. There are no missing values, nor duplicate entries."
   ]
  },
  {
   "cell_type": "markdown",
   "id": "f3f225cb-235f-4a44-aef5-fe8598ec7a7a",
   "metadata": {
    "tags": []
   },
   "source": [
    "## Exploring the Data"
   ]
  },
  {
   "cell_type": "markdown",
   "id": "37a568b6-cd6c-4eea-b356-a9ab25201b7d",
   "metadata": {},
   "source": [
    "Let's look again at the top 10 neighborhoods in terms of dropoffs."
   ]
  },
  {
   "cell_type": "code",
   "execution_count": 42,
   "id": "7692ec7c-d252-426a-b1bf-6592c315410e",
   "metadata": {},
   "outputs": [
    {
     "data": {
      "text/html": [
       "<div>\n",
       "<style scoped>\n",
       "    .dataframe tbody tr th:only-of-type {\n",
       "        vertical-align: middle;\n",
       "    }\n",
       "\n",
       "    .dataframe tbody tr th {\n",
       "        vertical-align: top;\n",
       "    }\n",
       "\n",
       "    .dataframe thead th {\n",
       "        text-align: right;\n",
       "    }\n",
       "</style>\n",
       "<table border=\"1\" class=\"dataframe\">\n",
       "  <thead>\n",
       "    <tr style=\"text-align: right;\">\n",
       "      <th></th>\n",
       "      <th>average_trips</th>\n",
       "    </tr>\n",
       "    <tr>\n",
       "      <th>dropoff_location_name</th>\n",
       "      <th></th>\n",
       "    </tr>\n",
       "  </thead>\n",
       "  <tbody>\n",
       "    <tr>\n",
       "      <th>Loop</th>\n",
       "      <td>10727</td>\n",
       "    </tr>\n",
       "    <tr>\n",
       "      <th>River North</th>\n",
       "      <td>9523</td>\n",
       "    </tr>\n",
       "    <tr>\n",
       "      <th>Streeterville</th>\n",
       "      <td>6664</td>\n",
       "    </tr>\n",
       "    <tr>\n",
       "      <th>West Loop</th>\n",
       "      <td>5163</td>\n",
       "    </tr>\n",
       "    <tr>\n",
       "      <th>O'Hare</th>\n",
       "      <td>2546</td>\n",
       "    </tr>\n",
       "    <tr>\n",
       "      <th>Lake View</th>\n",
       "      <td>2420</td>\n",
       "    </tr>\n",
       "    <tr>\n",
       "      <th>Grant Park</th>\n",
       "      <td>2068</td>\n",
       "    </tr>\n",
       "    <tr>\n",
       "      <th>Museum Campus</th>\n",
       "      <td>1510</td>\n",
       "    </tr>\n",
       "    <tr>\n",
       "      <th>Gold Coast</th>\n",
       "      <td>1364</td>\n",
       "    </tr>\n",
       "    <tr>\n",
       "      <th>Sheffield &amp; DePaul</th>\n",
       "      <td>1259</td>\n",
       "    </tr>\n",
       "  </tbody>\n",
       "</table>\n",
       "</div>"
      ],
      "text/plain": [
       "                       average_trips\n",
       "dropoff_location_name               \n",
       "Loop                           10727\n",
       "River North                     9523\n",
       "Streeterville                   6664\n",
       "West Loop                       5163\n",
       "O'Hare                          2546\n",
       "Lake View                       2420\n",
       "Grant Park                      2068\n",
       "Museum Campus                   1510\n",
       "Gold Coast                      1364\n",
       "Sheffield & DePaul              1259"
      ]
     },
     "execution_count": 42,
     "metadata": {},
     "output_type": "execute_result"
    }
   ],
   "source": [
    "# The table seems to have been sorted by average trip number already, \n",
    "# but let's sort it ourselves to be certain.\n",
    "top_ten_dropoff = dropoff.sort_values('average_trips', ascending=False).head(10).set_index('dropoff_location_name')\n",
    "top_ten_dropoff.head(10)"
   ]
  },
  {
   "cell_type": "markdown",
   "id": "1ace617f-a683-47ab-b221-5dc2da93e4c1",
   "metadata": {},
   "source": [
    "It's handy to have this list. Let's make a bar chart to better visualize it."
   ]
  },
  {
   "cell_type": "code",
   "execution_count": 50,
   "id": "0a52c274-1905-499c-8165-78ea492de118",
   "metadata": {},
   "outputs": [
    {
     "data": {
      "text/plain": [
       "Text(0.5, 0, 'Neighborhoods')"
      ]
     },
     "execution_count": 50,
     "metadata": {},
     "output_type": "execute_result"
    },
    {
     "data": {
      "image/png": "[encoded data removed]",
      "text/plain": [
       "<Figure size 640x480 with 1 Axes>"
      ]
     },
     "metadata": {},
     "output_type": "display_data"
    }
   ],
   "source": [
    "top_ten_dropoff.plot(kind='bar', rot=45, legend=False)\n",
    "plt.title('Top Ten Neighborhoods for Zuber Dropoffs in Nov 2017')\n",
    "plt.ylabel('Average number of dropoffs')\n",
    "plt.xlabel('Neighborhoods')"
   ]
  },
  {
   "cell_type": "markdown",
   "id": "f53bfcce-0502-4afb-8bf1-2b7c8647a2b3",
   "metadata": {},
   "source": [
    "This chart reveals much more at a glance than our top ten list did. The top four neighborhoods saw significantly more dropoffs in Nov 2017 than the subsequent neighborhoods did. The Loop was the most popular neighborhood, followed by River North, Streeterville, and West Loop. These neighborhoods are some of the most popular neighborhoods in Chicago compared to the others, and are relatively central, so it is reasonable that these would encounter the most dropoffs."
   ]
  },
  {
   "cell_type": "markdown",
   "id": "feba96e0-2cad-4967-b9fe-4c983b710aa7",
   "metadata": {},
   "source": [
    "Let's now look at a bar chart of taxi companies and the number of rides each company gave for Nov 15-16, 2017. There are quite a few companies, so let's look at the top 10 of these as well."
   ]
  },
  {
   "cell_type": "code",
   "execution_count": 78,
   "id": "2a169306-d7cc-4668-9a53-b8cb12183505",
   "metadata": {},
   "outputs": [
    {
     "data": {
      "text/html": [
       "<div>\n",
       "<style scoped>\n",
       "    .dataframe tbody tr th:only-of-type {\n",
       "        vertical-align: middle;\n",
       "    }\n",
       "\n",
       "    .dataframe tbody tr th {\n",
       "        vertical-align: top;\n",
       "    }\n",
       "\n",
       "    .dataframe thead th {\n",
       "        text-align: right;\n",
       "    }\n",
       "</style>\n",
       "<table border=\"1\" class=\"dataframe\">\n",
       "  <thead>\n",
       "    <tr style=\"text-align: right;\">\n",
       "      <th></th>\n",
       "      <th>trips_amount</th>\n",
       "    </tr>\n",
       "    <tr>\n",
       "      <th>company_name</th>\n",
       "      <th></th>\n",
       "    </tr>\n",
       "  </thead>\n",
       "  <tbody>\n",
       "    <tr>\n",
       "      <th>Flash Cab</th>\n",
       "      <td>19558</td>\n",
       "    </tr>\n",
       "    <tr>\n",
       "      <th>Taxi Affiliation Services</th>\n",
       "      <td>11422</td>\n",
       "    </tr>\n",
       "    <tr>\n",
       "      <th>Medallion Leasin</th>\n",
       "      <td>10367</td>\n",
       "    </tr>\n",
       "    <tr>\n",
       "      <th>Yellow Cab</th>\n",
       "      <td>9888</td>\n",
       "    </tr>\n",
       "    <tr>\n",
       "      <th>Taxi Affiliation Service Yellow</th>\n",
       "      <td>9299</td>\n",
       "    </tr>\n",
       "    <tr>\n",
       "      <th>Chicago Carriage Cab Corp</th>\n",
       "      <td>9181</td>\n",
       "    </tr>\n",
       "    <tr>\n",
       "      <th>City Service</th>\n",
       "      <td>8448</td>\n",
       "    </tr>\n",
       "    <tr>\n",
       "      <th>Sun Taxi</th>\n",
       "      <td>7701</td>\n",
       "    </tr>\n",
       "    <tr>\n",
       "      <th>Star North Management LLC</th>\n",
       "      <td>7455</td>\n",
       "    </tr>\n",
       "    <tr>\n",
       "      <th>Blue Ribbon Taxi Association Inc.</th>\n",
       "      <td>5953</td>\n",
       "    </tr>\n",
       "  </tbody>\n",
       "</table>\n",
       "</div>"
      ],
      "text/plain": [
       "                                   trips_amount\n",
       "company_name                                   \n",
       "Flash Cab                                 19558\n",
       "Taxi Affiliation Services                 11422\n",
       "Medallion Leasin                          10367\n",
       "Yellow Cab                                 9888\n",
       "Taxi Affiliation Service Yellow            9299\n",
       "Chicago Carriage Cab Corp                  9181\n",
       "City Service                               8448\n",
       "Sun Taxi                                   7701\n",
       "Star North Management LLC                  7455\n",
       "Blue Ribbon Taxi Association Inc.          5953"
      ]
     },
     "execution_count": 78,
     "metadata": {},
     "output_type": "execute_result"
    }
   ],
   "source": [
    "top_ten_companies = trips_amount.sort_values(by='trips_amount', ascending=False).head(10).set_index('company_name')\n",
    "top_ten_companies"
   ]
  },
  {
   "cell_type": "code",
   "execution_count": 81,
   "id": "38b54aad-993a-494c-88be-e8a2f31512e5",
   "metadata": {},
   "outputs": [
    {
     "data": {
      "text/plain": [
       "Text(0.5, 1.0, 'How many rides did each taxi company give Nov 16-17, 2017?')"
      ]
     },
     "execution_count": 81,
     "metadata": {},
     "output_type": "execute_result"
    },
    {
     "data": {
      "image/png": "[encoded data removed]",
      "text/plain": [
       "<Figure size 1000x400 with 1 Axes>"
      ]
     },
     "metadata": {},
     "output_type": "display_data"
    }
   ],
   "source": [
    "top_ten_companies.plot(kind='bar', rot=60, figsize=(10,4), legend=False)\n",
    "plt.xlabel('Company name')\n",
    "plt.ylabel('Number of rides given')\n",
    "plt.title('How many rides did each taxi company give Nov 16-17, 2017?')"
   ]
  },
  {
   "cell_type": "markdown",
   "id": "9acb2743-afcf-480f-87d0-50d28a580656",
   "metadata": {},
   "source": [
    "On Nov 16-17, 2017, Flash Cab gave the most rides by far with about 20,000 - nearly double the next company, Taxi Affiliation Services. Taxi Affiliation Services and subsequent companies do not have any great differences with regards to the number of trips they gave. "
   ]
  },
  {
   "cell_type": "markdown",
   "id": "e10ec3cb-55b7-4277-bf7c-3c1be83b0e71",
   "metadata": {
    "tags": []
   },
   "source": [
    "# Statistical Testing"
   ]
  },
  {
   "cell_type": "markdown",
   "id": "95f1e83c-fdc5-47e5-9cf5-8511797968ee",
   "metadata": {},
   "source": [
    "Let's now test whether there is the significant difference between the average duration rides from the Loop to O'Hare Internation Airport on rainy Saturdays vs clear Saturdays. We will use a t-test for independent samples."
   ]
  },
  {
   "cell_type": "code",
   "execution_count": 120,
   "id": "e8b3a3b8-35ec-4f5c-bcad-018a296b127f",
   "metadata": {
    "tags": []
   },
   "outputs": [],
   "source": [
    "# Import weather dataset\n",
    "try:\n",
    "    weather_records = pd.read_csv('moved_project_sql_result_07.csv')\n",
    "except:\n",
    "    weather_records = pd.read_csv('/datasets/project_sql_result_07.csv')"
   ]
  },
  {
   "cell_type": "code",
   "execution_count": 164,
   "id": "d2b9e10e-968d-472a-865d-700cec61e65f",
   "metadata": {},
   "outputs": [
    {
     "data": {
      "text/html": [
       "<div>\n",
       "<style scoped>\n",
       "    .dataframe tbody tr th:only-of-type {\n",
       "        vertical-align: middle;\n",
       "    }\n",
       "\n",
       "    .dataframe tbody tr th {\n",
       "        vertical-align: top;\n",
       "    }\n",
       "\n",
       "    .dataframe thead th {\n",
       "        text-align: right;\n",
       "    }\n",
       "</style>\n",
       "<table border=\"1\" class=\"dataframe\">\n",
       "  <thead>\n",
       "    <tr style=\"text-align: right;\">\n",
       "      <th></th>\n",
       "      <th>start_ts</th>\n",
       "      <th>weather_conditions</th>\n",
       "      <th>duration_seconds</th>\n",
       "      <th>day_of_week</th>\n",
       "    </tr>\n",
       "  </thead>\n",
       "  <tbody>\n",
       "    <tr>\n",
       "      <th>0</th>\n",
       "      <td>2017-11-25 16:00:00</td>\n",
       "      <td>Good</td>\n",
       "      <td>2410.0</td>\n",
       "      <td>5</td>\n",
       "    </tr>\n",
       "    <tr>\n",
       "      <th>1</th>\n",
       "      <td>2017-11-25 14:00:00</td>\n",
       "      <td>Good</td>\n",
       "      <td>1920.0</td>\n",
       "      <td>5</td>\n",
       "    </tr>\n",
       "    <tr>\n",
       "      <th>2</th>\n",
       "      <td>2017-11-25 12:00:00</td>\n",
       "      <td>Good</td>\n",
       "      <td>1543.0</td>\n",
       "      <td>5</td>\n",
       "    </tr>\n",
       "    <tr>\n",
       "      <th>3</th>\n",
       "      <td>2017-11-04 10:00:00</td>\n",
       "      <td>Good</td>\n",
       "      <td>2512.0</td>\n",
       "      <td>5</td>\n",
       "    </tr>\n",
       "    <tr>\n",
       "      <th>4</th>\n",
       "      <td>2017-11-11 07:00:00</td>\n",
       "      <td>Good</td>\n",
       "      <td>1440.0</td>\n",
       "      <td>5</td>\n",
       "    </tr>\n",
       "  </tbody>\n",
       "</table>\n",
       "</div>"
      ],
      "text/plain": [
       "             start_ts weather_conditions  duration_seconds  day_of_week\n",
       "0 2017-11-25 16:00:00               Good            2410.0            5\n",
       "1 2017-11-25 14:00:00               Good            1920.0            5\n",
       "2 2017-11-25 12:00:00               Good            1543.0            5\n",
       "3 2017-11-04 10:00:00               Good            2512.0            5\n",
       "4 2017-11-11 07:00:00               Good            1440.0            5"
      ]
     },
     "execution_count": 164,
     "metadata": {},
     "output_type": "execute_result"
    }
   ],
   "source": [
    "# Check out the table\n",
    "weather_records.head()"
   ]
  },
  {
   "cell_type": "code",
   "execution_count": 122,
   "id": "f10da34c-3aca-46b1-83b9-f0d42901f675",
   "metadata": {},
   "outputs": [
    {
     "name": "stdout",
     "output_type": "stream",
     "text": [
      "<class 'pandas.core.frame.DataFrame'>\n",
      "RangeIndex: 1068 entries, 0 to 1067\n",
      "Data columns (total 3 columns):\n",
      " #   Column              Non-Null Count  Dtype  \n",
      "---  ------              --------------  -----  \n",
      " 0   start_ts            1068 non-null   object \n",
      " 1   weather_conditions  1068 non-null   object \n",
      " 2   duration_seconds    1068 non-null   float64\n",
      "dtypes: float64(1), object(2)\n",
      "memory usage: 25.2+ KB\n"
     ]
    }
   ],
   "source": [
    "# Check datatypes and for missing values\n",
    "weather_records.info()"
   ]
  },
  {
   "cell_type": "markdown",
   "id": "cfc41b38-3aa1-4d2c-941a-8e3be828b729",
   "metadata": {},
   "source": [
    "Let's turn the timestamps from objects into proper datetimes, and then add a column indicating day of the week. The days should all be Saturdays, but I'd like to verify this."
   ]
  },
  {
   "cell_type": "code",
   "execution_count": 123,
   "id": "93041aad-c9e5-48ba-b07c-07a216162b5e",
   "metadata": {},
   "outputs": [],
   "source": [
    "weather_records.start_ts = pd.to_datetime(weather_records.start_ts, format='%Y-%m-%dT%H:%M:%S')"
   ]
  },
  {
   "cell_type": "code",
   "execution_count": 124,
   "id": "5faaa146-c44e-40b3-a191-621e13aa0eeb",
   "metadata": {},
   "outputs": [],
   "source": [
    "weather_records['day_of_week'] = weather_records.start_ts.dt.dayofweek"
   ]
  },
  {
   "cell_type": "code",
   "execution_count": 125,
   "id": "7930089d-01ce-4cee-87ca-11094497c84c",
   "metadata": {},
   "outputs": [
    {
     "name": "stdout",
     "output_type": "stream",
     "text": [
      "<class 'pandas.core.frame.DataFrame'>\n",
      "RangeIndex: 1068 entries, 0 to 1067\n",
      "Data columns (total 4 columns):\n",
      " #   Column              Non-Null Count  Dtype         \n",
      "---  ------              --------------  -----         \n",
      " 0   start_ts            1068 non-null   datetime64[ns]\n",
      " 1   weather_conditions  1068 non-null   object        \n",
      " 2   duration_seconds    1068 non-null   float64       \n",
      " 3   day_of_week         1068 non-null   int64         \n",
      "dtypes: datetime64[ns](1), float64(1), int64(1), object(1)\n",
      "memory usage: 33.5+ KB\n"
     ]
    }
   ],
   "source": [
    "weather_records.info()"
   ]
  },
  {
   "cell_type": "markdown",
   "id": "ab4df943-7ad4-4f11-b4c8-3d3a4a3907d8",
   "metadata": {},
   "source": [
    "Let's see - are all days Saturdays? I.e. day of the week number 5."
   ]
  },
  {
   "cell_type": "code",
   "execution_count": 126,
   "id": "e9a51316-08a8-4b5c-b706-a89958b1a22a",
   "metadata": {},
   "outputs": [
    {
     "data": {
      "text/plain": [
       "array([5], dtype=int64)"
      ]
     },
     "execution_count": 126,
     "metadata": {},
     "output_type": "execute_result"
    }
   ],
   "source": [
    "weather_records.day_of_week.unique()"
   ]
  },
  {
   "cell_type": "markdown",
   "id": "e190918e-bbd3-4f66-a6a6-62baad3b6489",
   "metadata": {},
   "source": [
    "Perfect, every day in the dataframe is from a Saturday."
   ]
  },
  {
   "cell_type": "markdown",
   "id": "8e48b0ca-031c-493d-b7c7-c3495e778139",
   "metadata": {},
   "source": [
    "Let's take data slices for trips with good weather and trips with bad weather."
   ]
  },
  {
   "cell_type": "code",
   "execution_count": 158,
   "id": "4139d383-1efb-48a2-b112-969f59ac709c",
   "metadata": {},
   "outputs": [],
   "source": [
    "rainy_trips = weather_records.duration_seconds[weather_records.weather_conditions == 'Bad']\n",
    "clear_trips = weather_records.duration_seconds[weather_records.weather_conditions == 'Good']"
   ]
  },
  {
   "cell_type": "markdown",
   "id": "1ab32e57-efbc-4524-be7a-cdd2e9376bfa",
   "metadata": {},
   "source": [
    "I want to quickly look at the trip duration means and distributions for these two data slices."
   ]
  },
  {
   "cell_type": "code",
   "execution_count": 160,
   "id": "4dafbcfa-3c39-4b2e-8b21-e9777f8e61bc",
   "metadata": {},
   "outputs": [
    {
     "data": {
      "text/plain": [
       "count     180.000000\n",
       "mean     2427.205556\n",
       "std       721.314138\n",
       "min       480.000000\n",
       "25%      1962.000000\n",
       "50%      2540.000000\n",
       "75%      2928.000000\n",
       "max      4980.000000\n",
       "Name: duration_seconds, dtype: float64"
      ]
     },
     "execution_count": 160,
     "metadata": {},
     "output_type": "execute_result"
    }
   ],
   "source": [
    "rainy_trips.describe()"
   ]
  },
  {
   "cell_type": "code",
   "execution_count": 161,
   "id": "0e54ea06-81fc-495c-8843-adf8426e24f9",
   "metadata": {},
   "outputs": [
    {
     "data": {
      "text/plain": [
       "count     888.000000\n",
       "mean     1999.675676\n",
       "std       759.198268\n",
       "min         0.000000\n",
       "25%      1389.750000\n",
       "50%      1800.000000\n",
       "75%      2460.000000\n",
       "max      7440.000000\n",
       "Name: duration_seconds, dtype: float64"
      ]
     },
     "execution_count": 161,
     "metadata": {},
     "output_type": "execute_result"
    }
   ],
   "source": [
    "clear_trips.describe()"
   ]
  },
  {
   "cell_type": "markdown",
   "id": "584bc742-f813-4fee-8eec-0f072bfc7175",
   "metadata": {},
   "source": [
    "Looks like the average trip duration for rainy Saturdays is greater in Nov 2017 than that for clear Saturdays. And the standard deviations are similar, so we can set the variance as equal when we run the t-test."
   ]
  },
  {
   "cell_type": "markdown",
   "id": "7d4997c0-54e3-4b35-b066-973741dcbb55",
   "metadata": {},
   "source": [
    "Let's look at histograms to check for normality."
   ]
  },
  {
   "cell_type": "code",
   "execution_count": 162,
   "id": "0dd3e709-3978-45a8-9296-fe33146dd886",
   "metadata": {},
   "outputs": [
    {
     "data": {
      "text/plain": [
       "Text(0, 0.5, 'Number of trips')"
      ]
     },
     "execution_count": 162,
     "metadata": {},
     "output_type": "execute_result"
    },
    {
     "data": {
      "image/png": "[encoded data removed]",
      "text/plain": [
       "<Figure size 1200x400 with 2 Axes>"
      ]
     },
     "metadata": {},
     "output_type": "display_data"
    }
   ],
   "source": [
    "plt.figure(figsize=(12,4))\n",
    "\n",
    "plt.subplot(1,2,1)\n",
    "rainy_trips.hist()\n",
    "plt.title('Distribution of rainy trip durations')\n",
    "plt.xlabel('Trip duration (seconds)')\n",
    "plt.ylabel('Number of trips')\n",
    "\n",
    "plt.subplot(1,2,2)\n",
    "clear_trips.hist()\n",
    "plt.title('Distribution of clear trip durations')\n",
    "plt.xlabel('Trip duration (seconds)')\n",
    "plt.ylabel('Number of trips')"
   ]
  },
  {
   "cell_type": "markdown",
   "id": "9eb32a48-654e-4f81-8af8-756972846d19",
   "metadata": {},
   "source": [
    "Both samples seem mostly normally distributed, and the samples are much larger than 50, so normality is less strict of a requirement regardless."
   ]
  },
  {
   "cell_type": "markdown",
   "id": "8a09ef37-e3d3-4ada-a3ad-00e4b2f99f26",
   "metadata": {},
   "source": [
    "We will test a null hypothesis that the mean trip duration is the same for rainy Saturdays as it is for non-rainy Saturdays. The alternative hypothesis would be that the mean trip durations are different. We will set our alpha to 0.05 so that we can be confident in catching trends, as opposed to a lower alpha which may be too strict and lead to more false negatives."
   ]
  },
  {
   "cell_type": "code",
   "execution_count": 163,
   "id": "f9e777cf-47be-45ac-ab47-3e1f87039d47",
   "metadata": {},
   "outputs": [
    {
     "data": {
      "text/plain": [
       "Ttest_indResult(statistic=6.946177714041499, pvalue=6.517970327099473e-12)"
      ]
     },
     "execution_count": 163,
     "metadata": {},
     "output_type": "execute_result"
    }
   ],
   "source": [
    "st.ttest_ind(rainy_trips, clear_trips, equal_var=True)"
   ]
  },
  {
   "cell_type": "markdown",
   "id": "177f830a-5b8b-42b6-a54d-5400cd773485",
   "metadata": {},
   "source": [
    "The p-value is extremely low, which allows us to firmly reject the null hypothesis that the mean trip durations for rainy Saturdays and clear Saturdays are equivalent. Trips definitely do appear to take longer when it is raining. "
   ]
  },
  {
   "cell_type": "markdown",
   "id": "3136601c-d64f-4811-9c3c-550f48cc894f",
   "metadata": {},
   "source": [
    "# Conclusion"
   ]
  },
  {
   "cell_type": "markdown",
   "id": "50a576fe-cfe5-4b80-a379-4f8bfc4d2077",
   "metadata": {},
   "source": [
    " We looked at datasets to find the taxi companies with the most rides on Nov 15-16, 2017. Flash Cab had the most rides by a wide margin, with the subsequent taxi companies being far behind. We also looked at the top neighborhoods for dropoffs in November 2017 and found that the Loop, River North, Streeterville, and West Loop were the most popular neighborhoods.\n",
    " \n",
    " We then compared the mean trip durations for rainy Saturdays vs clear Saturdays for trips from the Loop to O'Hare National Airport for November 2017, and found a statistically significant difference - rainy Saturdays do tend to have longer trip durations than clear Saturdays.\n",
    " \n",
    " Prior to this portion of the project, I practiced getting data from a website and writing SQL queries to pull data from a database. In this portion, I got more practice making visualizations and using statistical testing."
   ]
  }
 ],
 "metadata": {
  "kernelspec": {
   "display_name": "Python 3 (ipykernel)",
   "language": "python",
   "name": "python3"
  },
  "language_info": {
   "codemirror_mode": {
    "name": "ipython",
    "version": 3
   },
   "file_extension": ".py",
   "mimetype": "text/x-python",
   "name": "python",
   "nbconvert_exporter": "python",
   "pygments_lexer": "ipython3",
   "version": "3.9.16"
  }
 },
 "nbformat": 4,
 "nbformat_minor": 5
}
